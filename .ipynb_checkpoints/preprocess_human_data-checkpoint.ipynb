{
 "cells": [
  {
   "cell_type": "code",
   "execution_count": 1,
   "id": "e0887e99",
   "metadata": {},
   "outputs": [],
   "source": [
    "import pandas as pd\n",
    "import numpy as np\n",
    "from scipy import stats\n",
    "from pathlib import Path\n",
    "\n",
    "#Preprocessing\n",
    "from scipy.stats import pearsonr, mode \n",
    "from sklearn.preprocessing import StandardScaler\n",
    "from sklearn.decomposition import PCA\n",
    "from sklearn.model_selection import KFold\n",
    "\n",
    "#Models\n",
    "from sklearn.svm import SVC\n",
    "from sklearn.linear_model import RidgeClassifier, Ridge\n",
    "from sklearn.neighbors import KNeighborsClassifier, KNeighborsRegressor\n",
    "from sklearn.cluster import KMeans\n",
    "\n",
    "#plots\n",
    "import seaborn as sns\n",
    "from matplotlib import pyplot as plt\n",
    "\n",
    "#random state\n",
    "randState = 0"
   ]
  },
  {
   "cell_type": "markdown",
   "id": "99e4deb3",
   "metadata": {},
   "source": [
    "## Choose data set"
   ]
  },
  {
   "cell_type": "code",
   "execution_count": 54,
   "id": "946724fe",
   "metadata": {},
   "outputs": [],
   "source": [
    "data = \"BIG5\"\n",
    "h_path = \"human_studies/\" + data + \"/\" + data.lower() "
   ]
  },
  {
   "cell_type": "markdown",
   "id": "c1860b46",
   "metadata": {},
   "source": [
    "### Import data\n"
   ]
  },
  {
   "cell_type": "code",
   "execution_count": 58,
   "id": "3f0dbb6b",
   "metadata": {
    "scrolled": true
   },
   "outputs": [],
   "source": [
    "df_raw = pd.read_csv(h_path + \"_qualtrics_export.csv\")\n",
    "\n",
    "#filter columns and rename\n",
    "cols = [\"Q6.2\", \"Q27.1\", \"Q28.2\", \"Q28.3\", \"PROLIFIC_PID\", \"target\", \"fold\"]\n",
    "cols_response = [str(x) + \"_Q589_1\" for x in range(1,101)]\n",
    "cols.extend(cols_response)\n",
    "df_raw_pre = df_raw.loc[:, cols]\n",
    "rename_dict = {k:v for k,v in zip(cols_response, [\"q\" + str(x) for x in range(1,101)])}\n",
    "rename_dict = rename_dict | {'Q6.2': 'attention_check', 'Q27.1': 'impressions', \"Q28.2\": \"age\", \"Q28.3\": \"gender\", \"PROLIFIC_PID\": \"id\"}\n",
    "df_raw_pre = df_raw_pre.rename(columns=rename_dict)\n",
    "df_raw_pre = df_raw_pre.drop([0,1], axis=0)\n",
    "\n",
    "# convert scale responses to never\n",
    "replacer = {'Disagree': 1, '2': 2, 'Neutral': 3, '4': 4, 'Agree': 5}\n",
    "df_raw_pre[[\"q\" + str(x) for x in range(1,101)]] = df_raw_pre[[\"q\" + str(x) for x in range(1,101)]].replace(replacer)\n",
    "df_raw_pre.loc[:, [\"age\", \"target\", \"fold\"]] = df_raw_pre.loc[:, [\"age\", \"target\", \"fold\"]].astype(float)\n",
    "\n",
    "# drop failed attention check\n",
    "df = df_raw_pre[df_raw_pre.attention_check == \"Never\"].reset_index(drop=True).drop([\"attention_check\"], axis = 1)\n",
    "[df.age.mean(), np.mean(df.gender==\"Female\"), df.shape[0]] #mean age, gender, sample size\n",
    "df.to_csv(h_path + \"_qualtrics_cleaned.csv\")"
   ]
  }
 ],
 "metadata": {
  "kernelspec": {
   "display_name": "Python 3 (ipykernel)",
   "language": "python",
   "name": "python3"
  },
  "language_info": {
   "codemirror_mode": {
    "name": "ipython",
    "version": 3
   },
   "file_extension": ".py",
   "mimetype": "text/x-python",
   "name": "python",
   "nbconvert_exporter": "python",
   "pygments_lexer": "ipython3",
   "version": "3.9.7"
  }
 },
 "nbformat": 4,
 "nbformat_minor": 5
}
