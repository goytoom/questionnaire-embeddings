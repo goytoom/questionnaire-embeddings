{
 "cells": [
  {
   "cell_type": "code",
   "execution_count": 1,
   "id": "e0887e99",
   "metadata": {},
   "outputs": [],
   "source": [
    "import pandas as pd\n",
    "import numpy as np\n",
    "from scipy import stats\n",
    "from pathlib import Path\n",
    "\n",
    "#Preprocessing\n",
    "from scipy.stats import pearsonr, mode \n",
    "from sklearn.preprocessing import StandardScaler\n",
    "from sklearn.decomposition import PCA\n",
    "from sklearn.model_selection import KFold\n",
    "\n",
    "#Models\n",
    "from sklearn.svm import SVC\n",
    "from sklearn.linear_model import RidgeClassifier, Ridge\n",
    "from sklearn.neighbors import KNeighborsClassifier, KNeighborsRegressor\n",
    "from sklearn.cluster import KMeans\n",
    "\n",
    "#plots\n",
    "import seaborn as sns\n",
    "from matplotlib import pyplot as plt\n",
    "\n",
    "#random state\n",
    "randState = 0"
   ]
  },
  {
   "cell_type": "markdown",
   "id": "99e4deb3",
   "metadata": {},
   "source": [
    "## Choose data set"
   ]
  },
  {
   "cell_type": "code",
   "execution_count": 2,
   "id": "946724fe",
   "metadata": {},
   "outputs": [],
   "source": [
    "data = \"BIG5\"\n",
    "h_path = \"human_studies/\" + data + \"/\" + data.lower() "
   ]
  },
  {
   "cell_type": "markdown",
   "id": "c1860b46",
   "metadata": {},
   "source": [
    "### Import data\n"
   ]
  },
  {
   "cell_type": "code",
   "execution_count": 9,
   "id": "3f0dbb6b",
   "metadata": {},
   "outputs": [
    {
     "data": {
      "text/plain": [
       "[38.975083056478404, 0.45348837209302323, 602]"
      ]
     },
     "execution_count": 9,
     "metadata": {},
     "output_type": "execute_result"
    }
   ],
   "source": [
    "df_raw = pd.read_csv(h_path + \"_qualtrics_raw.csv\")\n",
    "\n",
    "#filter columns and rename\n",
    "cols = [\"Q6.2\", \"Q27.1\", \"Q28.2\", \"Q28.3\", \"Q8.2\", \"target\", \"fold\"]\n",
    "cols_response = [str(x) + \"_Q589_4\" for x in range(1,101)]\n",
    "cols.extend(cols_response)\n",
    "df_raw_pre = df_raw.loc[:, cols]\n",
    "rename_dict = {k:v for k,v in zip(cols_response, [\"q\" + str(x) for x in range(1,101)])}\n",
    "rename_dict = rename_dict | {'Q6.2': 'attention_check', 'Q27.1': 'impressions', \"Q28.2\": \"age\", \"Q28.3\": \"gender\", \"Q8.2\": \"id\"}\n",
    "df_raw_pre = df_raw_pre.rename(columns=rename_dict)\n",
    "df_raw_pre = df_raw_pre.drop([0,1], axis=0)\n",
    "\n",
    "# convert scale responses to never\n",
    "replacer = {'1': 1, '2': 2, '3': 3, '4': 4, '5': 5}\n",
    "df_raw_pre[[\"q\" + str(x) for x in range(1,101)]] = df_raw_pre[[\"q\" + str(x) for x in range(1,101)]].replace(replacer)\n",
    "df_raw_pre.loc[:, [\"age\", \"target\", \"fold\"]] = df_raw_pre.loc[:, [\"age\", \"target\", \"fold\"]].astype(float)\n",
    "\n",
    "# drop failed attention check\n",
    "df = df_raw_pre[df_raw_pre.attention_check == \"1\"].reset_index(drop=True).drop([\"attention_check\"], axis = 1)\n",
    "# df.to_csv(h_path + \"_qualtrics_cleaned.csv\")\n",
    "[df.age.mean(), np.mean(df.gender==\"2\"), df.shape[0]] #mean age, gender, sample size"
   ]
  },
  {
   "cell_type": "code",
   "execution_count": 10,
   "id": "8893f9fb",
   "metadata": {},
   "outputs": [
    {
     "data": {
      "text/plain": [
       "True"
      ]
     },
     "execution_count": 10,
     "metadata": {},
     "output_type": "execute_result"
    }
   ],
   "source": [
    "df.target.sort_values().drop_duplicates().tolist()[:-1] == list(range(2,62))\n",
    "# repeat target 54, fold 3 (error: target variable was 545 -> did not see the questions)\n",
    "# otherwise all folds included"
   ]
  },
  {
   "cell_type": "code",
   "execution_count": 11,
   "id": "e84477ce",
   "metadata": {},
   "outputs": [
    {
     "data": {
      "text/plain": [
       "(573, 2)"
      ]
     },
     "execution_count": 11,
     "metadata": {},
     "output_type": "execute_result"
    }
   ],
   "source": [
    "df.loc[:,[\"target\", \"fold\"]].drop_duplicates().shape\n",
    "# duplicate data!"
   ]
  },
  {
   "cell_type": "code",
   "execution_count": 13,
   "id": "32567e08",
   "metadata": {},
   "outputs": [
    {
     "name": "stdout",
     "output_type": "stream",
     "text": [
      "28\n"
     ]
    },
    {
     "data": {
      "text/plain": [
       "[[2, 10],\n",
       " [6, 1],\n",
       " [6, 4],\n",
       " [10, 10],\n",
       " [11, 3],\n",
       " [11, 6],\n",
       " [11, 9],\n",
       " [12, 4],\n",
       " [13, 9],\n",
       " [20, 4],\n",
       " [27, 1],\n",
       " [27, 6],\n",
       " [29, 6],\n",
       " [32, 3],\n",
       " [36, 5],\n",
       " [38, 5],\n",
       " [39, 4],\n",
       " [42, 10],\n",
       " [47, 8],\n",
       " [48, 7],\n",
       " [50, 2],\n",
       " [50, 8],\n",
       " [53, 7],\n",
       " [54, 3],\n",
       " [54, 6],\n",
       " [55, 10],\n",
       " [57, 2],\n",
       " [59, 6]]"
      ]
     },
     "execution_count": 13,
     "metadata": {},
     "output_type": "execute_result"
    }
   ],
   "source": [
    "import itertools\n",
    "folds = df.loc[:,[\"target\", \"fold\"]].sort_values([\"target\", \"fold\"]).values.tolist()\n",
    "all_folds = [list(tup) for tup in itertools.product(range(2,62), range(1,11))]\n",
    "missing = [x for x in all_folds if x not in folds]\n",
    "print(len(missing)) # 28 conditions missing\n",
    "missing"
   ]
  }
 ],
 "metadata": {
  "kernelspec": {
   "display_name": "Python 3 (ipykernel)",
   "language": "python",
   "name": "python3"
  },
  "language_info": {
   "codemirror_mode": {
    "name": "ipython",
    "version": 3
   },
   "file_extension": ".py",
   "mimetype": "text/x-python",
   "name": "python",
   "nbconvert_exporter": "python",
   "pygments_lexer": "ipython3",
   "version": "3.9.7"
  }
 },
 "nbformat": 4,
 "nbformat_minor": 5
}
