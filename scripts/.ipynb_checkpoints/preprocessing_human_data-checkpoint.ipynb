{
 "cells": [
  {
   "cell_type": "code",
   "execution_count": 3,
   "id": "e0887e99",
   "metadata": {
    "tags": []
   },
   "outputs": [],
   "source": [
    "import pandas as pd\n",
    "import numpy as np\n",
    "from scipy import stats\n",
    "\n",
    "import itertools\n",
    "from pathlib import Path"
   ]
  },
  {
   "cell_type": "markdown",
   "id": "99e4deb3",
   "metadata": {},
   "source": [
    "## Choose questionnaire"
   ]
  },
  {
   "cell_type": "code",
   "execution_count": 4,
   "id": "946724fe",
   "metadata": {
    "tags": []
   },
   "outputs": [],
   "source": [
    "d = \"big5\" #BIG5, 16PF, RIASEC, HSQ\n",
    "h_path = \"../human_studies/\" + d.upper() + \"/\" + d.lower() "
   ]
  },
  {
   "cell_type": "markdown",
   "id": "c1860b46",
   "metadata": {},
   "source": [
    "### Import & Process Human Response Data\n"
   ]
  },
  {
   "cell_type": "code",
   "execution_count": 5,
   "id": "3f0dbb6b",
   "metadata": {
    "tags": []
   },
   "outputs": [],
   "source": [
    "# load data\n",
    "if d==\"16pf\": # Merge multiple 16pf studies\n",
    "    df_raw1 = pd.read_csv(h_path + \"_qualtrics_raw1.csv\")\n",
    "    df_raw2 = pd.read_csv(h_path + \"_qualtrics_raw2.csv\")\n",
    "    df_raw = pd.concat([df_raw1, df_raw2.iloc[2:]], ignore_index=True)\n",
    "else: # directly load file for other questionnaires\n",
    "    df_raw = pd.read_csv(h_path + \"_qualtrics_raw.csv\")\n",
    "    \n",
    "#filter columns and rename\n",
    "cols = [\"Q6.2\", \"Q27.1\", \"Q28.2\", \"Q28.3\", \"Q8.2\", \"target\", \"fold\"]\n",
    "nr_questions = {\"big5\": 100, \"16pf\": 163, \"riasec\": 48, \"hsq\": 32}\n",
    "max_n = nr_questions[d] + 1\n",
    "cols_response = [str(x) + \"_Q589_4\" for x in range(1,max_n)]\n",
    "cols.extend(cols_response)\n",
    "df_raw_pre = df_raw.loc[:, cols]\n",
    "rename_dict = {k:v for k,v in zip(cols_response, [\"q\" + str(x) for x in range(1, max_n)])}\n",
    "rename_dict = rename_dict | {'Q6.2': 'attention_check', 'Q27.1': 'impressions', \"Q28.2\": \"age\", \"Q28.3\": \"gender\", \"Q8.2\": \"id\"}\n",
    "df_raw_pre = df_raw_pre.rename(columns=rename_dict)\n",
    "df_raw_pre = df_raw_pre.drop([0,1], axis=0)\n",
    "\n",
    "# convert scale responses to never\n",
    "replacer = {'1': 1, '2': 2, '3': 3, '4': 4, '5': 5}\n",
    "df_raw_pre[[\"q\" + str(x) for x in range(1,max_n)]] = df_raw_pre[[\"q\" + str(x) for x in range(1,max_n)]].replace(replacer)\n",
    "df_raw_pre.loc[:, [\"age\", \"target\", \"fold\"]] = df_raw_pre.loc[:, [\"age\", \"target\", \"fold\"]].astype(float)\n",
    "\n",
    "# drop failed attention check and duplicate data\n",
    "df = df_raw_pre[df_raw_pre.attention_check == \"1\"].reset_index(drop=True).drop([\"attention_check\"], axis = 1)\n",
    "df_final = df.dropna(subset=[\"age\"]).drop_duplicates([\"target\", \"fold\"])\n",
    "df_final.to_csv(h_path + \"_qualtrics_cleaned.csv\") #save preprocessed human data"
   ]
  },
  {
   "cell_type": "markdown",
   "id": "d0b41fb6-73e8-470b-9526-f18984578acb",
   "metadata": {},
   "source": [
    "Check how many partipants finished the study"
   ]
  },
  {
   "cell_type": "code",
   "execution_count": null,
   "id": "4a053b64-41e2-4fbf-9e7e-20327784ab7d",
   "metadata": {
    "tags": []
   },
   "outputs": [],
   "source": [
    "# Check how many people took the test in total (to check if data is most current in qualtrics)\n",
    "print(df_raw_pre.shape)\n",
    "\n",
    "# Check how many partipants finished the study\n",
    "print(df.shape)\n",
    "\n",
    "# Check how many test folds are covered\n",
    "print(df_final.shape)"
   ]
  },
  {
   "cell_type": "markdown",
   "id": "52b82015-314c-44d0-902b-3a59763528f0",
   "metadata": {},
   "source": [
    "Print Summary Stats (mean age, gender, sample size)"
   ]
  },
  {
   "cell_type": "code",
   "execution_count": 80,
   "id": "f1ae4576-d738-451c-8b29-302a001934fa",
   "metadata": {
    "tags": []
   },
   "outputs": [
    {
     "data": {
      "text/plain": [
       "[40.60166666666667, 0.5083333333333333, 600]"
      ]
     },
     "execution_count": 80,
     "metadata": {},
     "output_type": "execute_result"
    }
   ],
   "source": [
    "[df_final.age.mean(), np.mean(df_final.gender==\"2\"), df_final.shape[0]] #mean age, gender, sample size"
   ]
  },
  {
   "cell_type": "markdown",
   "id": "3036f50a-6de9-4029-9cc4-ebcdc7cc3d03",
   "metadata": {},
   "source": [
    "Check for missing conditions [Target, Fold]"
   ]
  },
  {
   "cell_type": "code",
   "execution_count": 81,
   "id": "32567e08",
   "metadata": {
    "tags": []
   },
   "outputs": [
    {
     "name": "stdout",
     "output_type": "stream",
     "text": [
      "0\n",
      "[]\n"
     ]
    }
   ],
   "source": [
    "folds = df_final.loc[:,[\"target\", \"fold\"]].sort_values([\"target\", \"fold\"]).values.tolist()\n",
    "all_folds = [list(tup) for tup in itertools.product(range(2,62), range(1,11))]\n",
    "missing = [x for x in all_folds if x not in folds]\n",
    "\n",
    "print(len(missing)) # nr of conditions missing\n",
    "print(missing) #print missing conditions"
   ]
  }
 ],
 "metadata": {
  "kernelspec": {
   "display_name": "Python 3 (ipykernel)",
   "language": "python",
   "name": "python3"
  },
  "language_info": {
   "codemirror_mode": {
    "name": "ipython",
    "version": 3
   },
   "file_extension": ".py",
   "mimetype": "text/x-python",
   "name": "python",
   "nbconvert_exporter": "python",
   "pygments_lexer": "ipython3",
   "version": "3.9.7"
  }
 },
 "nbformat": 4,
 "nbformat_minor": 5
}
