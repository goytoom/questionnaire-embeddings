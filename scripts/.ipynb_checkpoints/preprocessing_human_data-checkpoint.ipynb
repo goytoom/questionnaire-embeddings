{
 "cells": [
  {
   "cell_type": "code",
   "execution_count": 121,
   "id": "e0887e99",
   "metadata": {
    "tags": []
   },
   "outputs": [],
   "source": [
    "import pandas as pd\n",
    "import numpy as np\n",
    "from scipy import stats\n",
    "\n",
    "import itertools\n",
    "from pathlib import Path"
   ]
  },
  {
   "cell_type": "markdown",
   "id": "99e4deb3",
   "metadata": {},
   "source": [
    "## Choose questionnaire"
   ]
  },
  {
   "cell_type": "code",
   "execution_count": 122,
   "id": "946724fe",
   "metadata": {
    "tags": []
   },
   "outputs": [],
   "source": [
    "d = \"big5\" #BIG5, 16PF, RIASEC, HSQ\n",
    "h_path = \"../human_studies/\" + d.upper() + \"/\" + d.lower() "
   ]
  },
  {
   "cell_type": "markdown",
   "id": "c1860b46",
   "metadata": {},
   "source": [
    "### Import & Process Human Response Data\n"
   ]
  },
  {
   "cell_type": "code",
   "execution_count": 70,
   "id": "3f0dbb6b",
   "metadata": {
    "tags": []
   },
   "outputs": [],
   "source": [
    "df_raw = pd.read_csv(h_path + \"_qualtrics_raw3.csv\")\n",
    "\n",
    "#filter columns and rename\n",
    "cols = [\"Q6.2\", \"Q27.1\", \"Q28.2\", \"Q28.3\", \"Q8.2\", \"target\", \"fold\"]\n",
    "cols_response = [str(x) + \"_Q589_4\" for x in range(1,101)]\n",
    "cols.extend(cols_response)\n",
    "df_raw_pre = df_raw.loc[:, cols]\n",
    "rename_dict = {k:v for k,v in zip(cols_response, [\"q\" + str(x) for x in range(1,101)])}\n",
    "rename_dict = rename_dict | {'Q6.2': 'attention_check', 'Q27.1': 'impressions', \"Q28.2\": \"age\", \"Q28.3\": \"gender\", \"Q8.2\": \"id\"}\n",
    "df_raw_pre = df_raw_pre.rename(columns=rename_dict)\n",
    "df_raw_pre = df_raw_pre.drop([0,1], axis=0)\n",
    "\n",
    "# convert scale responses to never\n",
    "replacer = {'1': 1, '2': 2, '3': 3, '4': 4, '5': 5}\n",
    "df_raw_pre[[\"q\" + str(x) for x in range(1,101)]] = df_raw_pre[[\"q\" + str(x) for x in range(1,101)]].replace(replacer)\n",
    "df_raw_pre.loc[:, [\"age\", \"target\", \"fold\"]] = df_raw_pre.loc[:, [\"age\", \"target\", \"fold\"]].astype(float)\n",
    "\n",
    "# drop failed attention check and duplicate data\n",
    "df = df_raw_pre[df_raw_pre.attention_check == \"1\"].reset_index(drop=True).drop([\"attention_check\"], axis = 1)\n",
    "df_final = df.dropna(subset=[\"age\"]).drop_duplicates([\"target\", \"fold\"])\n",
    "df_final.to_csv(h_path + \"_qualtrics_cleaned.csv\") #save preprocessed human data"
   ]
  },
  {
   "cell_type": "markdown",
   "id": "76215b60-2cb8-4b26-9c47-ff257e1d7bd7",
   "metadata": {},
   "source": [
    "Check which participants finished the study (prolific payments)"
   ]
  },
  {
   "cell_type": "code",
   "execution_count": null,
   "id": "99f856da-2cdb-46db-a7a4-fe967629aafa",
   "metadata": {
    "tags": []
   },
   "outputs": [],
   "source": [
    "# find everyone who finished the study\n",
    "df.id.tolist()"
   ]
  },
  {
   "cell_type": "code",
   "execution_count": 120,
   "id": "c25eab46-4f9e-4302-bea4-c4f440d789ec",
   "metadata": {
    "tags": []
   },
   "outputs": [],
   "source": [
    "lines = df.loc[pd.isnull(df.age)].id.tolist()\n",
    "with open(\"../human_studies/BIG5/notCompleted.txt\", \"w\") as f:\n",
    "    for line in lines:\n",
    "        f.write(f\"{line}\\n\")"
   ]
  },
  {
   "cell_type": "markdown",
   "id": "52b82015-314c-44d0-902b-3a59763528f0",
   "metadata": {},
   "source": [
    "Print Summary Stats (mean age, gender, sample size)"
   ]
  },
  {
   "cell_type": "code",
   "execution_count": 60,
   "id": "f1ae4576-d738-451c-8b29-302a001934fa",
   "metadata": {
    "tags": []
   },
   "outputs": [
    {
     "data": {
      "text/plain": [
       "[38.845, 0.455, 600]"
      ]
     },
     "execution_count": 60,
     "metadata": {},
     "output_type": "execute_result"
    }
   ],
   "source": [
    "[df_final.age.mean(), np.mean(df_final.gender==\"2\"), df_final.shape[0]] #mean age, gender, sample size"
   ]
  },
  {
   "cell_type": "markdown",
   "id": "3036f50a-6de9-4029-9cc4-ebcdc7cc3d03",
   "metadata": {},
   "source": [
    "Find missing conditions [Target, Fold]"
   ]
  },
  {
   "cell_type": "code",
   "execution_count": 62,
   "id": "32567e08",
   "metadata": {
    "tags": []
   },
   "outputs": [
    {
     "name": "stdout",
     "output_type": "stream",
     "text": [
      "1\n",
      "[[6, 4]]\n"
     ]
    }
   ],
   "source": [
    "folds = df_final.loc[:,[\"target\", \"fold\"]].sort_values([\"target\", \"fold\"]).values.tolist()\n",
    "all_folds = [list(tup) for tup in itertools.product(range(2,62), range(1,11))]\n",
    "missing = [x for x in all_folds if x not in folds]\n",
    "\n",
    "print(len(missing)) # nr of conditions missing\n",
    "print(missing) #print missing conditions"
   ]
  }
 ],
 "metadata": {
  "kernelspec": {
   "display_name": "Python 3 (ipykernel)",
   "language": "python",
   "name": "python3"
  },
  "language_info": {
   "codemirror_mode": {
    "name": "ipython",
    "version": 3
   },
   "file_extension": ".py",
   "mimetype": "text/x-python",
   "name": "python",
   "nbconvert_exporter": "python",
   "pygments_lexer": "ipython3",
   "version": "3.9.7"
  }
 },
 "nbformat": 4,
 "nbformat_minor": 5
}
